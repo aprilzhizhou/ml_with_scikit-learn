{
 "cells": [
  {
   "cell_type": "markdown",
   "id": "4b7a8a29",
   "metadata": {},
   "source": [
    "# Supervised learning - linear regression"
   ]
  },
  {
   "cell_type": "markdown",
   "id": "c27d21d6",
   "metadata": {},
   "source": [
    "In this notebook, we \n",
    "* split the dataset into trian and test sets \n",
    "* build a pipeline for preprocessing and modeling "
   ]
  },
  {
   "cell_type": "code",
   "execution_count": 1,
   "id": "6878db3c",
   "metadata": {},
   "outputs": [],
   "source": [
    "## linear regression\n",
    "import numpy as np\n",
    "import pandas as pd\n",
    "import matplotlib.pyplot as plt\n",
    "import seaborn as sns\n",
    "import sklearn"
   ]
  },
  {
   "cell_type": "code",
   "execution_count": 2,
   "id": "230329a5",
   "metadata": {},
   "outputs": [
    {
     "data": {
      "text/html": [
       "<div>\n",
       "<style scoped>\n",
       "    .dataframe tbody tr th:only-of-type {\n",
       "        vertical-align: middle;\n",
       "    }\n",
       "\n",
       "    .dataframe tbody tr th {\n",
       "        vertical-align: top;\n",
       "    }\n",
       "\n",
       "    .dataframe thead th {\n",
       "        text-align: right;\n",
       "    }\n",
       "</style>\n",
       "<table border=\"1\" class=\"dataframe\">\n",
       "  <thead>\n",
       "    <tr style=\"text-align: right;\">\n",
       "      <th></th>\n",
       "      <th>species</th>\n",
       "      <th>vertical_len</th>\n",
       "      <th>diag_len</th>\n",
       "      <th>cross_len</th>\n",
       "      <th>height</th>\n",
       "      <th>width</th>\n",
       "      <th>weight</th>\n",
       "    </tr>\n",
       "  </thead>\n",
       "  <tbody>\n",
       "    <tr>\n",
       "      <th>0</th>\n",
       "      <td>Bream</td>\n",
       "      <td>23.2</td>\n",
       "      <td>25.4</td>\n",
       "      <td>30.0</td>\n",
       "      <td>11.5200</td>\n",
       "      <td>4.0200</td>\n",
       "      <td>242.0</td>\n",
       "    </tr>\n",
       "    <tr>\n",
       "      <th>1</th>\n",
       "      <td>Bream</td>\n",
       "      <td>24.0</td>\n",
       "      <td>26.3</td>\n",
       "      <td>31.2</td>\n",
       "      <td>12.4800</td>\n",
       "      <td>4.3056</td>\n",
       "      <td>290.0</td>\n",
       "    </tr>\n",
       "    <tr>\n",
       "      <th>2</th>\n",
       "      <td>Bream</td>\n",
       "      <td>23.9</td>\n",
       "      <td>26.5</td>\n",
       "      <td>31.1</td>\n",
       "      <td>12.3778</td>\n",
       "      <td>4.6961</td>\n",
       "      <td>340.0</td>\n",
       "    </tr>\n",
       "    <tr>\n",
       "      <th>3</th>\n",
       "      <td>Bream</td>\n",
       "      <td>26.3</td>\n",
       "      <td>29.0</td>\n",
       "      <td>33.5</td>\n",
       "      <td>12.7300</td>\n",
       "      <td>4.4555</td>\n",
       "      <td>363.0</td>\n",
       "    </tr>\n",
       "    <tr>\n",
       "      <th>4</th>\n",
       "      <td>Bream</td>\n",
       "      <td>26.5</td>\n",
       "      <td>29.0</td>\n",
       "      <td>34.0</td>\n",
       "      <td>12.4440</td>\n",
       "      <td>5.1340</td>\n",
       "      <td>430.0</td>\n",
       "    </tr>\n",
       "  </tbody>\n",
       "</table>\n",
       "</div>"
      ],
      "text/plain": [
       "  species  vertical_len  diag_len  cross_len   height   width  weight\n",
       "0   Bream          23.2      25.4       30.0  11.5200  4.0200   242.0\n",
       "1   Bream          24.0      26.3       31.2  12.4800  4.3056   290.0\n",
       "2   Bream          23.9      26.5       31.1  12.3778  4.6961   340.0\n",
       "3   Bream          26.3      29.0       33.5  12.7300  4.4555   363.0\n",
       "4   Bream          26.5      29.0       34.0  12.4440  5.1340   430.0"
      ]
     },
     "execution_count": 2,
     "metadata": {},
     "output_type": "execute_result"
    }
   ],
   "source": [
    "## Import data\n",
    "df = pd.read_csv('datasets/fish.csv')\n",
    "df.head()"
   ]
  },
  {
   "cell_type": "markdown",
   "id": "635adda8",
   "metadata": {},
   "source": [
    "we want to predict the weight (in log space) of a fish given other inforamtion.\n",
    "We will build a model with the remaining features as predictor"
   ]
  },
  {
   "cell_type": "code",
   "execution_count": 5,
   "id": "bb464646",
   "metadata": {},
   "outputs": [
    {
     "data": {
      "text/plain": [
       "array(['species', 'vertical_len', 'diag_len', 'cross_len', 'height',\n",
       "       'width'], dtype=object)"
      ]
     },
     "execution_count": 5,
     "metadata": {},
     "output_type": "execute_result"
    }
   ],
   "source": [
    "feature_names = df.columns.values[:-1] # get the feature column for easeir access \n",
    "# [:-1] means all values except the last one: the last one is weight\n",
    "feature_names"
   ]
  },
  {
   "cell_type": "markdown",
   "id": "ea909f72",
   "metadata": {},
   "source": [
    "Split data into predictors and reponse"
   ]
  },
  {
   "cell_type": "code",
   "execution_count": 8,
   "id": "3f349e6e",
   "metadata": {},
   "outputs": [],
   "source": [
    "X = df[feature_names]\n",
    "Y = np.log(df['weight'])"
   ]
  },
  {
   "cell_type": "markdown",
   "id": "0167e7e8",
   "metadata": {},
   "source": [
    "Split samples into train and test sets (typically 80% to 20%)"
   ]
  },
  {
   "cell_type": "code",
   "execution_count": 9,
   "id": "385c2e1a",
   "metadata": {},
   "outputs": [],
   "source": [
    "# split samples into train and test sets (typically 80% to 20%)\n",
    "from sklearn.model_selection import train_test_split\n",
    "X_train, X_test, Y_train, Y_test = train_test_split(X, Y, test_size =0.2, random_state=0)\n"
   ]
  },
  {
   "cell_type": "markdown",
   "id": "5578c01a",
   "metadata": {},
   "source": [
    "Preprocessing needed for the categorical and numerical data (standardization, rescaling, etc)\n",
    "* preprocessing should only be applied to the train data to prevent data leakage \n",
    "* data leakage means the training process has infomation about the test set "
   ]
  },
  {
   "cell_type": "code",
   "execution_count": 10,
   "id": "db868eab",
   "metadata": {},
   "outputs": [
    {
     "data": {
      "text/html": [
       "<div>\n",
       "<style scoped>\n",
       "    .dataframe tbody tr th:only-of-type {\n",
       "        vertical-align: middle;\n",
       "    }\n",
       "\n",
       "    .dataframe tbody tr th {\n",
       "        vertical-align: top;\n",
       "    }\n",
       "\n",
       "    .dataframe thead th {\n",
       "        text-align: right;\n",
       "    }\n",
       "</style>\n",
       "<table border=\"1\" class=\"dataframe\">\n",
       "  <thead>\n",
       "    <tr style=\"text-align: right;\">\n",
       "      <th></th>\n",
       "      <th>species</th>\n",
       "      <th>vertical_len</th>\n",
       "      <th>diag_len</th>\n",
       "      <th>cross_len</th>\n",
       "      <th>height</th>\n",
       "      <th>width</th>\n",
       "    </tr>\n",
       "  </thead>\n",
       "  <tbody>\n",
       "    <tr>\n",
       "      <th>count</th>\n",
       "      <td>126</td>\n",
       "      <td>126.000000</td>\n",
       "      <td>126.000000</td>\n",
       "      <td>126.000000</td>\n",
       "      <td>126.000000</td>\n",
       "      <td>126.000000</td>\n",
       "    </tr>\n",
       "    <tr>\n",
       "      <th>unique</th>\n",
       "      <td>7</td>\n",
       "      <td>NaN</td>\n",
       "      <td>NaN</td>\n",
       "      <td>NaN</td>\n",
       "      <td>NaN</td>\n",
       "      <td>NaN</td>\n",
       "    </tr>\n",
       "    <tr>\n",
       "      <th>top</th>\n",
       "      <td>Perch</td>\n",
       "      <td>NaN</td>\n",
       "      <td>NaN</td>\n",
       "      <td>NaN</td>\n",
       "      <td>NaN</td>\n",
       "      <td>NaN</td>\n",
       "    </tr>\n",
       "    <tr>\n",
       "      <th>freq</th>\n",
       "      <td>45</td>\n",
       "      <td>NaN</td>\n",
       "      <td>NaN</td>\n",
       "      <td>NaN</td>\n",
       "      <td>NaN</td>\n",
       "      <td>NaN</td>\n",
       "    </tr>\n",
       "    <tr>\n",
       "      <th>mean</th>\n",
       "      <td>NaN</td>\n",
       "      <td>25.596032</td>\n",
       "      <td>27.717460</td>\n",
       "      <td>30.501587</td>\n",
       "      <td>8.831752</td>\n",
       "      <td>4.315787</td>\n",
       "    </tr>\n",
       "    <tr>\n",
       "      <th>std</th>\n",
       "      <td>NaN</td>\n",
       "      <td>9.668046</td>\n",
       "      <td>10.377037</td>\n",
       "      <td>11.326288</td>\n",
       "      <td>4.420481</td>\n",
       "      <td>1.706681</td>\n",
       "    </tr>\n",
       "    <tr>\n",
       "      <th>min</th>\n",
       "      <td>NaN</td>\n",
       "      <td>7.500000</td>\n",
       "      <td>8.400000</td>\n",
       "      <td>8.800000</td>\n",
       "      <td>1.728400</td>\n",
       "      <td>1.148400</td>\n",
       "    </tr>\n",
       "    <tr>\n",
       "      <th>25%</th>\n",
       "      <td>NaN</td>\n",
       "      <td>19.000000</td>\n",
       "      <td>21.000000</td>\n",
       "      <td>22.575000</td>\n",
       "      <td>5.731975</td>\n",
       "      <td>3.335100</td>\n",
       "    </tr>\n",
       "    <tr>\n",
       "      <th>50%</th>\n",
       "      <td>NaN</td>\n",
       "      <td>24.550000</td>\n",
       "      <td>26.500000</td>\n",
       "      <td>29.150000</td>\n",
       "      <td>7.469800</td>\n",
       "      <td>4.181100</td>\n",
       "    </tr>\n",
       "    <tr>\n",
       "      <th>75%</th>\n",
       "      <td>NaN</td>\n",
       "      <td>32.325000</td>\n",
       "      <td>35.000000</td>\n",
       "      <td>39.450000</td>\n",
       "      <td>12.266550</td>\n",
       "      <td>5.284075</td>\n",
       "    </tr>\n",
       "    <tr>\n",
       "      <th>max</th>\n",
       "      <td>NaN</td>\n",
       "      <td>59.000000</td>\n",
       "      <td>63.400000</td>\n",
       "      <td>68.000000</td>\n",
       "      <td>18.957000</td>\n",
       "      <td>8.142000</td>\n",
       "    </tr>\n",
       "  </tbody>\n",
       "</table>\n",
       "</div>"
      ],
      "text/plain": [
       "       species  vertical_len    diag_len   cross_len      height       width\n",
       "count      126    126.000000  126.000000  126.000000  126.000000  126.000000\n",
       "unique       7           NaN         NaN         NaN         NaN         NaN\n",
       "top      Perch           NaN         NaN         NaN         NaN         NaN\n",
       "freq        45           NaN         NaN         NaN         NaN         NaN\n",
       "mean       NaN     25.596032   27.717460   30.501587    8.831752    4.315787\n",
       "std        NaN      9.668046   10.377037   11.326288    4.420481    1.706681\n",
       "min        NaN      7.500000    8.400000    8.800000    1.728400    1.148400\n",
       "25%        NaN     19.000000   21.000000   22.575000    5.731975    3.335100\n",
       "50%        NaN     24.550000   26.500000   29.150000    7.469800    4.181100\n",
       "75%        NaN     32.325000   35.000000   39.450000   12.266550    5.284075\n",
       "max        NaN     59.000000   63.400000   68.000000   18.957000    8.142000"
      ]
     },
     "execution_count": 10,
     "metadata": {},
     "output_type": "execute_result"
    }
   ],
   "source": [
    "# preprocessing needed for the categorical and numerical data (standardization, rescaling, etc)\n",
    "# preprocessing should only be applied to the train data\n",
    "# data leakage means the training process has infomation about the test set \n",
    "X_train.describe(include = 'all')"
   ]
  },
  {
   "cell_type": "markdown",
   "id": "3d1750c4",
   "metadata": {},
   "source": [
    "Standardization for numerical data "
   ]
  },
  {
   "cell_type": "code",
   "execution_count": 11,
   "id": "c46a1706",
   "metadata": {},
   "outputs": [
    {
     "data": {
      "text/plain": [
       "8.414785623150988e-17"
      ]
     },
     "execution_count": 11,
     "metadata": {},
     "output_type": "execute_result"
    }
   ],
   "source": [
    "# standardization for numerical data  (example)\n",
    "from sklearn.preprocessing import StandardScaler\n",
    "scaler = StandardScaler().fit(X_train[['height']])\n",
    "train_scaled = scaler.transform(X_train[['height']])\n",
    "np.mean(train_scaled)"
   ]
  },
  {
   "cell_type": "code",
   "execution_count": 12,
   "id": "ab1b749d",
   "metadata": {},
   "outputs": [
    {
     "data": {
      "text/plain": [
       "0.17386194582393663"
      ]
     },
     "execution_count": 12,
     "metadata": {},
     "output_type": "execute_result"
    }
   ],
   "source": [
    "test_scaled = scaler.transform(X_test[['height']])\n",
    "np.mean(test_scaled)"
   ]
  },
  {
   "cell_type": "markdown",
   "id": "79f5f7cb",
   "metadata": {},
   "source": [
    "Standardization for categorical data (species) "
   ]
  },
  {
   "cell_type": "code",
   "execution_count": 16,
   "id": "cb42750c",
   "metadata": {},
   "outputs": [],
   "source": [
    "# standardization for categorical data (species) \n",
    "from sklearn.pipeline import Pipeline\n",
    "from sklearn.preprocessing import OneHotEncoder\n",
    "from sklearn.preprocessing import StandardScaler\n",
    "# creating pipelines for one hot encoder and applying standard scaler to numerical variables \n",
    "categorical_transformer = Pipeline(steps = [('onehot',OneHotEncoder())])\n",
    "numerical_transformer = Pipeline(steps = [('scaler',StandardScaler())])"
   ]
  },
  {
   "cell_type": "markdown",
   "id": "7b9f90a3",
   "metadata": {},
   "source": [
    "Combining pipelines"
   ]
  },
  {
   "cell_type": "code",
   "execution_count": 17,
   "id": "a84e0ef8",
   "metadata": {},
   "outputs": [
    {
     "data": {
      "text/plain": [
       "array(['vertical_len', 'diag_len', 'cross_len', 'height', 'width'],\n",
       "      dtype=object)"
      ]
     },
     "execution_count": 17,
     "metadata": {},
     "output_type": "execute_result"
    }
   ],
   "source": [
    "# combining pipelines \n",
    "# define columns \n",
    "categorical_columns = ['species']\n",
    "numerical_columns = feature_names[1:]\n",
    "numerical_columns\n"
   ]
  },
  {
   "cell_type": "code",
   "execution_count": 18,
   "id": "c8d541b4",
   "metadata": {},
   "outputs": [
    {
     "data": {
      "text/html": [
       "<style>#sk-container-id-2 {color: black;background-color: white;}#sk-container-id-2 pre{padding: 0;}#sk-container-id-2 div.sk-toggleable {background-color: white;}#sk-container-id-2 label.sk-toggleable__label {cursor: pointer;display: block;width: 100%;margin-bottom: 0;padding: 0.3em;box-sizing: border-box;text-align: center;}#sk-container-id-2 label.sk-toggleable__label-arrow:before {content: \"▸\";float: left;margin-right: 0.25em;color: #696969;}#sk-container-id-2 label.sk-toggleable__label-arrow:hover:before {color: black;}#sk-container-id-2 div.sk-estimator:hover label.sk-toggleable__label-arrow:before {color: black;}#sk-container-id-2 div.sk-toggleable__content {max-height: 0;max-width: 0;overflow: hidden;text-align: left;background-color: #f0f8ff;}#sk-container-id-2 div.sk-toggleable__content pre {margin: 0.2em;color: black;border-radius: 0.25em;background-color: #f0f8ff;}#sk-container-id-2 input.sk-toggleable__control:checked~div.sk-toggleable__content {max-height: 200px;max-width: 100%;overflow: auto;}#sk-container-id-2 input.sk-toggleable__control:checked~label.sk-toggleable__label-arrow:before {content: \"▾\";}#sk-container-id-2 div.sk-estimator input.sk-toggleable__control:checked~label.sk-toggleable__label {background-color: #d4ebff;}#sk-container-id-2 div.sk-label input.sk-toggleable__control:checked~label.sk-toggleable__label {background-color: #d4ebff;}#sk-container-id-2 input.sk-hidden--visually {border: 0;clip: rect(1px 1px 1px 1px);clip: rect(1px, 1px, 1px, 1px);height: 1px;margin: -1px;overflow: hidden;padding: 0;position: absolute;width: 1px;}#sk-container-id-2 div.sk-estimator {font-family: monospace;background-color: #f0f8ff;border: 1px dotted black;border-radius: 0.25em;box-sizing: border-box;margin-bottom: 0.5em;}#sk-container-id-2 div.sk-estimator:hover {background-color: #d4ebff;}#sk-container-id-2 div.sk-parallel-item::after {content: \"\";width: 100%;border-bottom: 1px solid gray;flex-grow: 1;}#sk-container-id-2 div.sk-label:hover label.sk-toggleable__label {background-color: #d4ebff;}#sk-container-id-2 div.sk-serial::before {content: \"\";position: absolute;border-left: 1px solid gray;box-sizing: border-box;top: 0;bottom: 0;left: 50%;z-index: 0;}#sk-container-id-2 div.sk-serial {display: flex;flex-direction: column;align-items: center;background-color: white;padding-right: 0.2em;padding-left: 0.2em;position: relative;}#sk-container-id-2 div.sk-item {position: relative;z-index: 1;}#sk-container-id-2 div.sk-parallel {display: flex;align-items: stretch;justify-content: center;background-color: white;position: relative;}#sk-container-id-2 div.sk-item::before, #sk-container-id-2 div.sk-parallel-item::before {content: \"\";position: absolute;border-left: 1px solid gray;box-sizing: border-box;top: 0;bottom: 0;left: 50%;z-index: -1;}#sk-container-id-2 div.sk-parallel-item {display: flex;flex-direction: column;z-index: 1;position: relative;background-color: white;}#sk-container-id-2 div.sk-parallel-item:first-child::after {align-self: flex-end;width: 50%;}#sk-container-id-2 div.sk-parallel-item:last-child::after {align-self: flex-start;width: 50%;}#sk-container-id-2 div.sk-parallel-item:only-child::after {width: 0;}#sk-container-id-2 div.sk-dashed-wrapped {border: 1px dashed gray;margin: 0 0.4em 0.5em 0.4em;box-sizing: border-box;padding-bottom: 0.4em;background-color: white;}#sk-container-id-2 div.sk-label label {font-family: monospace;font-weight: bold;display: inline-block;line-height: 1.2em;}#sk-container-id-2 div.sk-label-container {text-align: center;}#sk-container-id-2 div.sk-container {/* jupyter's `normalize.less` sets `[hidden] { display: none; }` but bootstrap.min.css set `[hidden] { display: none !important; }` so we also need the `!important` here to be able to override the default hidden behavior on the sphinx rendered scikit-learn.org. See: https://github.com/scikit-learn/scikit-learn/issues/21755 */display: inline-block !important;position: relative;}#sk-container-id-2 div.sk-text-repr-fallback {display: none;}</style><div id=\"sk-container-id-2\" class=\"sk-top-container\"><div class=\"sk-text-repr-fallback\"><pre>Pipeline(steps=[(&#x27;preprocessor&#x27;,\n",
       "                 ColumnTransformer(transformers=[(&#x27;num&#x27;,\n",
       "                                                  Pipeline(steps=[(&#x27;scaler&#x27;,\n",
       "                                                                   StandardScaler())]),\n",
       "                                                  array([&#x27;vertical_len&#x27;, &#x27;diag_len&#x27;, &#x27;cross_len&#x27;, &#x27;height&#x27;, &#x27;width&#x27;],\n",
       "      dtype=object)),\n",
       "                                                 (&#x27;cat&#x27;,\n",
       "                                                  Pipeline(steps=[(&#x27;onehot&#x27;,\n",
       "                                                                   OneHotEncoder())]),\n",
       "                                                  [&#x27;species&#x27;])])),\n",
       "                (&#x27;regressor&#x27;, LinearRegression())])</pre><b>In a Jupyter environment, please rerun this cell to show the HTML representation or trust the notebook. <br />On GitHub, the HTML representation is unable to render, please try loading this page with nbviewer.org.</b></div><div class=\"sk-container\" hidden><div class=\"sk-item sk-dashed-wrapped\"><div class=\"sk-label-container\"><div class=\"sk-label sk-toggleable\"><input class=\"sk-toggleable__control sk-hidden--visually\" id=\"sk-estimator-id-8\" type=\"checkbox\" ><label for=\"sk-estimator-id-8\" class=\"sk-toggleable__label sk-toggleable__label-arrow\">Pipeline</label><div class=\"sk-toggleable__content\"><pre>Pipeline(steps=[(&#x27;preprocessor&#x27;,\n",
       "                 ColumnTransformer(transformers=[(&#x27;num&#x27;,\n",
       "                                                  Pipeline(steps=[(&#x27;scaler&#x27;,\n",
       "                                                                   StandardScaler())]),\n",
       "                                                  array([&#x27;vertical_len&#x27;, &#x27;diag_len&#x27;, &#x27;cross_len&#x27;, &#x27;height&#x27;, &#x27;width&#x27;],\n",
       "      dtype=object)),\n",
       "                                                 (&#x27;cat&#x27;,\n",
       "                                                  Pipeline(steps=[(&#x27;onehot&#x27;,\n",
       "                                                                   OneHotEncoder())]),\n",
       "                                                  [&#x27;species&#x27;])])),\n",
       "                (&#x27;regressor&#x27;, LinearRegression())])</pre></div></div></div><div class=\"sk-serial\"><div class=\"sk-item sk-dashed-wrapped\"><div class=\"sk-label-container\"><div class=\"sk-label sk-toggleable\"><input class=\"sk-toggleable__control sk-hidden--visually\" id=\"sk-estimator-id-9\" type=\"checkbox\" ><label for=\"sk-estimator-id-9\" class=\"sk-toggleable__label sk-toggleable__label-arrow\">preprocessor: ColumnTransformer</label><div class=\"sk-toggleable__content\"><pre>ColumnTransformer(transformers=[(&#x27;num&#x27;,\n",
       "                                 Pipeline(steps=[(&#x27;scaler&#x27;, StandardScaler())]),\n",
       "                                 array([&#x27;vertical_len&#x27;, &#x27;diag_len&#x27;, &#x27;cross_len&#x27;, &#x27;height&#x27;, &#x27;width&#x27;],\n",
       "      dtype=object)),\n",
       "                                (&#x27;cat&#x27;,\n",
       "                                 Pipeline(steps=[(&#x27;onehot&#x27;, OneHotEncoder())]),\n",
       "                                 [&#x27;species&#x27;])])</pre></div></div></div><div class=\"sk-parallel\"><div class=\"sk-parallel-item\"><div class=\"sk-item\"><div class=\"sk-label-container\"><div class=\"sk-label sk-toggleable\"><input class=\"sk-toggleable__control sk-hidden--visually\" id=\"sk-estimator-id-10\" type=\"checkbox\" ><label for=\"sk-estimator-id-10\" class=\"sk-toggleable__label sk-toggleable__label-arrow\">num</label><div class=\"sk-toggleable__content\"><pre>[&#x27;vertical_len&#x27; &#x27;diag_len&#x27; &#x27;cross_len&#x27; &#x27;height&#x27; &#x27;width&#x27;]</pre></div></div></div><div class=\"sk-serial\"><div class=\"sk-item\"><div class=\"sk-serial\"><div class=\"sk-item\"><div class=\"sk-estimator sk-toggleable\"><input class=\"sk-toggleable__control sk-hidden--visually\" id=\"sk-estimator-id-11\" type=\"checkbox\" ><label for=\"sk-estimator-id-11\" class=\"sk-toggleable__label sk-toggleable__label-arrow\">StandardScaler</label><div class=\"sk-toggleable__content\"><pre>StandardScaler()</pre></div></div></div></div></div></div></div></div><div class=\"sk-parallel-item\"><div class=\"sk-item\"><div class=\"sk-label-container\"><div class=\"sk-label sk-toggleable\"><input class=\"sk-toggleable__control sk-hidden--visually\" id=\"sk-estimator-id-12\" type=\"checkbox\" ><label for=\"sk-estimator-id-12\" class=\"sk-toggleable__label sk-toggleable__label-arrow\">cat</label><div class=\"sk-toggleable__content\"><pre>[&#x27;species&#x27;]</pre></div></div></div><div class=\"sk-serial\"><div class=\"sk-item\"><div class=\"sk-serial\"><div class=\"sk-item\"><div class=\"sk-estimator sk-toggleable\"><input class=\"sk-toggleable__control sk-hidden--visually\" id=\"sk-estimator-id-13\" type=\"checkbox\" ><label for=\"sk-estimator-id-13\" class=\"sk-toggleable__label sk-toggleable__label-arrow\">OneHotEncoder</label><div class=\"sk-toggleable__content\"><pre>OneHotEncoder()</pre></div></div></div></div></div></div></div></div></div></div><div class=\"sk-item\"><div class=\"sk-estimator sk-toggleable\"><input class=\"sk-toggleable__control sk-hidden--visually\" id=\"sk-estimator-id-14\" type=\"checkbox\" ><label for=\"sk-estimator-id-14\" class=\"sk-toggleable__label sk-toggleable__label-arrow\">LinearRegression</label><div class=\"sk-toggleable__content\"><pre>LinearRegression()</pre></div></div></div></div></div></div></div>"
      ],
      "text/plain": [
       "Pipeline(steps=[('preprocessor',\n",
       "                 ColumnTransformer(transformers=[('num',\n",
       "                                                  Pipeline(steps=[('scaler',\n",
       "                                                                   StandardScaler())]),\n",
       "                                                  array(['vertical_len', 'diag_len', 'cross_len', 'height', 'width'],\n",
       "      dtype=object)),\n",
       "                                                 ('cat',\n",
       "                                                  Pipeline(steps=[('onehot',\n",
       "                                                                   OneHotEncoder())]),\n",
       "                                                  ['species'])])),\n",
       "                ('regressor', LinearRegression())])"
      ]
     },
     "execution_count": 18,
     "metadata": {},
     "output_type": "execute_result"
    }
   ],
   "source": [
    "from sklearn.compose import ColumnTransformer\n",
    "from sklearn.linear_model import LinearRegression\n",
    "categorical_columns = ['species']\n",
    "numerical_columns = feature_names[1:]\n",
    "\n",
    "preprocessor = ColumnTransformer(\n",
    "    transformers=[\n",
    "        ('num', numerical_transformer, numerical_columns), #(chosen_name, Pipeline, columns_to_apply_to)\n",
    "        ('cat', categorical_transformer, categorical_columns)])\n",
    "model = Pipeline(steps = [('preprocessor',preprocessor), ('regressor',LinearRegression())])\n",
    "model"
   ]
  },
  {
   "cell_type": "markdown",
   "id": "1b126298",
   "metadata": {},
   "source": [
    "Fit model to data/learn weights, and predict using learned models"
   ]
  },
  {
   "cell_type": "code",
   "execution_count": 19,
   "id": "7f458ad6",
   "metadata": {},
   "outputs": [],
   "source": [
    "model.fit(X_train, Y_train);\n",
    "Y_pred = model.predict(X_test);"
   ]
  },
  {
   "cell_type": "markdown",
   "id": "53b9d93f",
   "metadata": {},
   "source": [
    "Compare predictions and true values"
   ]
  },
  {
   "cell_type": "code",
   "execution_count": 20,
   "id": "2c17672d",
   "metadata": {},
   "outputs": [
    {
     "data": {
      "image/png": "[encoded data removed]",
      "text/plain": [
       "<Figure size 600x600 with 1 Axes>"
      ]
     },
     "metadata": {},
     "output_type": "display_data"
    }
   ],
   "source": [
    "fig, ax = plt.subplots(figsize = (6,6))\n",
    "plt.scatter(Y_test,Y_pred)\n",
    "ax.set_xlabel('true value', fontsize=20)\n",
    "ax.set_ylabel('prediction', fontsize=20)\n",
    "plt.show()\n"
   ]
  },
  {
   "cell_type": "markdown",
   "id": "aacb9e96",
   "metadata": {},
   "source": [
    "Access and intepret learned weights"
   ]
  },
  {
   "cell_type": "code",
   "execution_count": 24,
   "id": "1673ecc8",
   "metadata": {},
   "outputs": [],
   "source": [
    "# Create a nice dataframe to store all the model coefficients (not including intercept)\n",
    "labels = list(model['preprocessor'].transformers_[0][2]) + list(model['preprocessor'].transformers_[1][1]['onehot'].get_feature_names_out(categorical_columns))\n",
    "\n",
    "coefs = pd.DataFrame(\n",
    "    model[1].coef_,\n",
    "    columns=[\"Coefficients\"],\n",
    "    index=labels,\n",
    ")"
   ]
  },
  {
   "cell_type": "code",
   "execution_count": 25,
   "id": "2d7679c6",
   "metadata": {},
   "outputs": [
    {
     "data": {
      "text/plain": [
       "5.296093966873677"
      ]
     },
     "execution_count": 25,
     "metadata": {},
     "output_type": "execute_result"
    }
   ],
   "source": [
    "# To access intercept or bias\n",
    "model[1].intercept_"
   ]
  },
  {
   "cell_type": "code",
   "execution_count": 26,
   "id": "daf6b5a4",
   "metadata": {},
   "outputs": [
    {
     "data": {
      "image/png": "[encoded data removed]",
      "text/plain": [
       "<Figure size 1000x600 with 1 Axes>"
      ]
     },
     "metadata": {},
     "output_type": "display_data"
    }
   ],
   "source": [
    "coefs.plot.barh(figsize=(10, 6))\n",
    "plt.axvline(x=0, color=\".5\")\n",
    "plt.xlabel(\"Coefficient values\")\n",
    "plt.subplots_adjust(left=0.3)"
   ]
  },
  {
   "cell_type": "markdown",
   "id": "f78e91a1",
   "metadata": {},
   "source": [
    "Two measures to evaluate learned models:\n",
    "\n",
    "* the mean squared error $$\n",
    "MSE = \\frac{1}{M} (y_{pred} - y_{obs})^2\n",
    "$$\n",
    "\n",
    "* the $R^2$ score. It represents the proportion of the response's variance that has been explained by the predictors. Best possible score is 1.\n"
   ]
  },
  {
   "cell_type": "code",
   "execution_count": 27,
   "id": "0adfe8d7",
   "metadata": {},
   "outputs": [],
   "source": [
    "from sklearn.metrics import mean_squared_error\n",
    "from sklearn.metrics import r2_score"
   ]
  },
  {
   "cell_type": "code",
   "execution_count": 28,
   "id": "8674e755",
   "metadata": {},
   "outputs": [
    {
     "name": "stdout",
     "output_type": "stream",
     "text": [
      "0.022032507964441207\n",
      "0.9832007220632911\n"
     ]
    }
   ],
   "source": [
    "mse = mean_squared_error(Y_test, Y_pred)\n",
    "print(mse)\n",
    "\n",
    "# r2s = \n",
    "r2s = r2_score(Y_test,Y_pred)\n",
    "print(r2s)"
   ]
  },
  {
   "cell_type": "code",
   "execution_count": null,
   "id": "8ff33913",
   "metadata": {},
   "outputs": [],
   "source": []
  }
 ],
 "metadata": {
  "kernelspec": {
   "display_name": "Python 3 (ipykernel)",
   "language": "python",
   "name": "python3"
  },
  "language_info": {
   "codemirror_mode": {
    "name": "ipython",
    "version": 3
   },
   "file_extension": ".py",
   "mimetype": "text/x-python",
   "name": "python",
   "nbconvert_exporter": "python",
   "pygments_lexer": "ipython3",
   "version": "3.9.7"
  }
 },
 "nbformat": 4,
 "nbformat_minor": 5
}
